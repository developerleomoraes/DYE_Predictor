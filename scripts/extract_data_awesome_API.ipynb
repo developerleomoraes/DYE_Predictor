{
 "cells": [
  {
   "cell_type": "markdown",
   "id": "d66bb42b",
   "metadata": {},
   "source": [
    "# Neural Networks Course - LEONARDO H. DE MORAES - Final Project  \n",
    "\n",
    "**Name:** Leonardo H. de Moraes  \n",
    "**Student ID:** 1711609  \n",
    "\n",
    "**Course:** Neural Networks - Polytechnic Institute of Guarda (IPG)  \n",
    "**Acronym:** LEI  \n",
    "**Department:** School of Technology and Management  \n",
    "**Degree:** Bachelor's  \n",
    "**Program:** Computer Engineering  \n",
    "**Academic Year:** 2024/2025  \n",
    "**Professor:** Noel de Jesus Mendonça Lopes  \n",
    "\n",
    "---\n",
    "\n",
    "## Project Objective  \n",
    "The goal of this project is to develop predictive models for the exchange rates of the US Dollar (**USD**) and the Japanese Yen (**JPY**) against the Euro (**EUR**). Students will use neural networks to build and compare different models.  "
   ]
  },
  {
   "cell_type": "code",
   "execution_count": null,
   "id": "5e96d402",
   "metadata": {},
   "outputs": [],
   "source": [
    "## == Install libs \n",
    "import os\n",
    "import dotenv\n",
    "import pandas as pd\n",
    "import matplotlib as plt\n",
    "from sklearn.model_selection import train_test_split\n",
    "from sklearn.preprocessing import MinMaxScaler\n",
    "from dataset_utils.awesome_api import (\n",
    "    get_exchange,\n",
    "    adjuste_null_values,\n",
    "    adjust_types\n",
    ")\n",
    "\n",
    "## == Install libs \n",
    "\n",
    "\n",
    "## == Globals Variables\n",
    "dotenv.load_dotenv(dotenv.find_dotenv())\n",
    "\n",
    "awesome_api_key = os.getenv('AWESOME_API_KEY')\n",
    "coins = ['USD-EUR', 'JPY-EUR']\n",
    "## == Globals Variables\n"
   ]
  },
  {
   "cell_type": "code",
   "execution_count": null,
   "id": "cc9ac9d4",
   "metadata": {},
   "outputs": [],
   "source": [
    "# == ================================================ == #\n",
    "# == Get data from Awesome API                        == #\n",
    "# == GSHEETS: https://docs.awesomeapi.com.br/         == #\n",
    "# == ================================================ == #\n",
    "\n",
    "## ======================= EXTRACT ======================== ##\n",
    "## == Call function to get data from API\n",
    "resp_USD_EUR = get_exchange(coins[0], awesome_api_key)\n",
    "resp_JPY_EUR = get_exchange(coins[1], awesome_api_key)\n",
    "\n",
    "\n",
    "## ====================== TRANSFORM ======================= ##\n",
    "## == Transform to dataframe\n",
    "df_USD_EUR = pd.DataFrame(resp_USD_EUR)\n",
    "df_JPY_EUR = pd.DataFrame(resp_JPY_EUR)\n",
    "\n",
    "df_USD_EUR = adjuste_null_values(df_USD_EUR, resp_USD_EUR)\n",
    "df_JPY_EUR = adjuste_null_values(df_JPY_EUR, resp_JPY_EUR)\n",
    "\n",
    "df_USD_EUR = adjust_types(df_USD_EUR)\n",
    "df_JPY_EUR = adjust_types(df_JPY_EUR)\n",
    "\n",
    "\n",
    "df_USD_EUR.sort_values(by='timestamp', ascending=True, inplace=True, ignore_index=True)\n",
    "df_USD_EUR.drop(columns=['create_date'], inplace=True)\n",
    "\n",
    "df_JPY_EUR.sort_values(by='timestamp', ascending=True, inplace=True, ignore_index=True)\n",
    "df_JPY_EUR.drop(columns=['create_date'], inplace=True)\n",
    "\n",
    "## ========================= LOAD ========================= ##\n",
    "## == Load dataframe in bases\n",
    "df_USD_EUR.to_json('../data/awesome_api/df_USD_EUR.json', orient='records', indent=4)\n",
    "df_JPY_EUR.to_json('../data/awesome_api/df_JPY_EUR.json', orient='records', indent=4)"
   ]
  },
  {
   "cell_type": "code",
   "execution_count": null,
   "id": "9e245914",
   "metadata": {},
   "outputs": [],
   "source": [
    "resp_USD_EUR"
   ]
  },
  {
   "cell_type": "code",
   "execution_count": null,
   "id": "0817e4ad",
   "metadata": {},
   "outputs": [],
   "source": [
    "resp_JPY_EUR"
   ]
  },
  {
   "cell_type": "code",
   "execution_count": null,
   "id": "cfdf05ac",
   "metadata": {},
   "outputs": [],
   "source": [
    "df_USD_EUR"
   ]
  },
  {
   "cell_type": "code",
   "execution_count": null,
   "id": "7247ceee",
   "metadata": {},
   "outputs": [],
   "source": [
    "df_JPY_EUR"
   ]
  }
 ],
 "metadata": {
  "kernelspec": {
   "display_name": ".venv",
   "language": "python",
   "name": "python3"
  },
  "language_info": {
   "codemirror_mode": {
    "name": "ipython",
    "version": 3
   },
   "file_extension": ".py",
   "mimetype": "text/x-python",
   "name": "python",
   "nbconvert_exporter": "python",
   "pygments_lexer": "ipython3",
   "version": "3.10.14"
  }
 },
 "nbformat": 4,
 "nbformat_minor": 5
}
