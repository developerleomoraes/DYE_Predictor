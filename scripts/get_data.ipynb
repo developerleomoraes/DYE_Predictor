{
 "cells": [
  {
   "cell_type": "markdown",
   "id": "2015f88a",
   "metadata": {},
   "source": [
    "# Neural Networks Course - LEONARDO H. DE MORAES - Final Project  \n",
    "\n",
    "**Name:** Leonardo H. de Moraes  \n",
    "**Student ID:** 1711609  \n",
    "\n",
    "**Course:** Neural Networks - Polytechnic Institute of Guarda (IPG)  \n",
    "**Acronym:** LEI  \n",
    "**Department:** School of Technology and Management  \n",
    "**Degree:** Bachelor's  \n",
    "**Program:** Computer Engineering  \n",
    "**Academic Year:** 2024/2025  \n",
    "**Professor:** Noel de Jesus Mendonça Lopes  \n",
    "\n",
    "---\n",
    "\n",
    "## Project Objective  \n",
    "The goal of this project is to develop predictive models for the exchange rates of the US Dollar (**USD**) and the Japanese Yen (**JPY**) against the Euro (**EUR**). Students will use neural networks to build and compare different models.  "
   ]
  },
  {
   "cell_type": "code",
   "execution_count": null,
   "id": "b1c072a5",
   "metadata": {},
   "outputs": [],
   "source": [
    "## == Import Libs\n",
    "import pandas as pd\n",
    "import numpy as np\n",
    "import requests\n",
    "import dotenv\n",
    "import os\n",
    "from datetime import datetime, timedelta\n",
    "import time\n",
    "import matplotlib.pyplot as plt\n",
    "from dataset_utils.extrac_transf_data import *\n",
    "## == Import libs \n",
    "\n",
    "\n",
    "## == Set global variables\n",
    "end_date = datetime.now().strftime('%Y-%m-%d')\n",
    "start_date = '2015-01-01'"
   ]
  },
  {
   "cell_type": "code",
   "execution_count": null,
   "id": "36c0406d",
   "metadata": {},
   "outputs": [],
   "source": [
    "print('+ == =================================================================== == +')\n",
    "print('|                           Starting extract data!                          |')\n",
    "print('+ == =================================================================== == +')\n",
    "\n",
    "df_final = build_complete_dataset(start_date, end_date)"
   ]
  },
  {
   "cell_type": "code",
   "execution_count": null,
   "id": "f11f397b",
   "metadata": {},
   "outputs": [],
   "source": [
    "print('+ == =================================================================== == +')\n",
    "print('|                           Load and plot data!                             |')\n",
    "print('+ == =================================================================== == +')\n",
    "\n",
    "# Verificar o resultado\n",
    "print(\"\\n   ↳ Dataset construído com sucesso!\")\n",
    "print(f\"    ↳ Colunas disponíveis: {df_final.columns.tolist()}\")\n",
    "print(f\"    ↳ Número de observações: {len(df_final)}\")\n",
    "\n",
    "\n",
    "# Salvar o dataset\n",
    "output_file = f\"../data/dateset/multi_forex_dataset_{start_date}_to_{end_date}.csv\"\n",
    "df_final.to_csv(output_file, index=False)\n",
    "print(f\"\\n  ↳ Dataset salvo como {output_file}\")"
   ]
  },
  {
   "cell_type": "code",
   "execution_count": null,
   "id": "dc79a847",
   "metadata": {},
   "outputs": [],
   "source": [
    "\n",
    "\n",
    "# Plotar visualizações\n",
    "plt.figure(figsize=(15, 10))\n",
    "\n",
    "# Taxas de câmbio\n",
    "plt.subplot(2, 2, 1)\n",
    "plt.plot(df_final['date'], df_final['exchange_rate_USD_EUR'], label='USD/EUR')\n",
    "plt.plot(df_final['date'], df_final['exchange_rate_JPY_EUR']*100, label='JPY/EUR (x100)')\n",
    "plt.title('Taxas de Câmbio')\n",
    "plt.xlabel('Date')\n",
    "plt.ylabel('Rate')\n",
    "plt.legend()\n",
    "\n",
    "# Preço do petróleo\n",
    "plt.subplot(2, 2, 2)\n",
    "plt.plot(df_final['date'], df_final['oil_price'])\n",
    "plt.title('Oil Price (Brent)')\n",
    "plt.xlabel('Date')\n",
    "plt.ylabel('USD per Barrel')\n",
    "\n",
    "# S&P 500\n",
    "plt.subplot(2, 2, 3)\n",
    "plt.plot(df_final['date'], df_final['sp500'])\n",
    "plt.title('S&P 500 Index')\n",
    "plt.xlabel('Date')\n",
    "plt.ylabel('Index Value')\n",
    "\n",
    "# Taxa de juros\n",
    "plt.subplot(2, 2, 4)\n",
    "plt.plot(df_final['date'], df_final['interest_rate'])\n",
    "plt.title('Interest Rate (FED Funds)')\n",
    "plt.xlabel('Date')\n",
    "plt.ylabel('Rate (%)')\n",
    "\n",
    "plt.tight_layout()\n",
    "plt.show()"
   ]
  },
  {
   "cell_type": "code",
   "execution_count": null,
   "id": "cccaacee",
   "metadata": {},
   "outputs": [],
   "source": []
  },
  {
   "cell_type": "code",
   "execution_count": null,
   "id": "c23b1788",
   "metadata": {},
   "outputs": [],
   "source": []
  }
 ],
 "metadata": {
  "kernelspec": {
   "display_name": ".venv",
   "language": "python",
   "name": "python3"
  },
  "language_info": {
   "codemirror_mode": {
    "name": "ipython",
    "version": 3
   },
   "file_extension": ".py",
   "mimetype": "text/x-python",
   "name": "python",
   "nbconvert_exporter": "python",
   "pygments_lexer": "ipython3",
   "version": "3.10.14"
  }
 },
 "nbformat": 4,
 "nbformat_minor": 5
}
